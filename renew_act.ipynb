{
  "nbformat": 4,
  "nbformat_minor": 0,
  "metadata": {
    "colab": {
      "provenance": [],
      "toc_visible": true,
      "authorship_tag": "ABX9TyNqjbxgIvFShPS8Q09i3/uO",
      "include_colab_link": true
    },
    "kernelspec": {
      "name": "python3",
      "display_name": "Python 3"
    },
    "language_info": {
      "name": "python"
    }
  },
  "cells": [
    {
      "cell_type": "markdown",
      "metadata": {
        "id": "view-in-github",
        "colab_type": "text"
      },
      "source": [
        "<a href=\"https://colab.research.google.com/github/dsfernandez/DoE-RENEW/blob/main/renew_act.ipynb\" target=\"_parent\"><img src=\"https://colab.research.google.com/assets/colab-badge.svg\" alt=\"Open In Colab\"/></a>"
      ]
    },
    {
      "cell_type": "markdown",
      "source": [
        "# Installing act-atmos\n",
        "Following README.rst in https://github.com/ARM-DOE/ACT:\n",
        "\n",
        "ACT can be installed a few different ways. One way is to install using pip. When installing with pip, the ACT dependencies found in requirements.txt will also be installed. To install using pip:"
      ],
      "metadata": {
        "id": "C7xXh6gX2IE2"
      }
    },
    {
      "cell_type": "code",
      "execution_count": null,
      "metadata": {
        "id": "FAp01fvV0c2F"
      },
      "outputs": [],
      "source": [
        "!pip install act-atmos"
      ]
    }
  ]
}